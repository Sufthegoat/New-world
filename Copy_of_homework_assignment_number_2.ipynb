{
  "nbformat": 4,
  "nbformat_minor": 0,
  "metadata": {
    "colab": {
      "provenance": [],
      "collapsed_sections": [],
      "mount_file_id": "18sUt4HOQawQ5OluIJ9KZ5msBKOagGEof",
      "authorship_tag": "ABX9TyOqOlO+6OZzRW81vX6aMF9k",
      "include_colab_link": true
    },
    "kernelspec": {
      "name": "python3",
      "display_name": "Python 3"
    },
    "language_info": {
      "name": "python"
    }
  },
  "cells": [
    {
      "cell_type": "markdown",
      "metadata": {
        "id": "view-in-github",
        "colab_type": "text"
      },
      "source": [
        "<a href=\"https://colab.research.google.com/github/Sufthegoat/New-world/blob/main/Copy_of_homework_assignment_number_2.ipynb\" target=\"_parent\"><img src=\"https://colab.research.google.com/assets/colab-badge.svg\" alt=\"Open In Colab\"/></a>"
      ]
    },
    {
      "cell_type": "markdown",
      "source": [
        "ch 3 1,2,3"
      ],
      "metadata": {
        "id": "SFA-L7G1JecY"
      }
    },
    {
      "cell_type": "code",
      "execution_count": null,
      "metadata": {
        "colab": {
          "base_uri": "https://localhost:8080/"
        },
        "id": "eNZzP3MmHpWg",
        "outputId": "22e506e0-3d8a-4da3-9a49-1004e0d77c03"
      },
      "outputs": [
        {
          "output_type": "stream",
          "name": "stdout",
          "text": [
            "Enter Hours:45\n",
            "Enter Rate:10\n",
            "Pay =\n"
          ]
        },
        {
          "output_type": "execute_result",
          "data": {
            "text/plain": [
              "(None, 475.0)"
            ]
          },
          "metadata": {},
          "execution_count": 1
        }
      ],
      "source": [
        "hours = float(input('Enter Hours:'))\n",
        "rate = float(input('Enter Rate:'))\n",
        "\n",
        "if hours <= 40:\n",
        "  pay = hours * rate\n",
        "else: \n",
        "  pay = ((hours - 40) * (1.5 * rate)) + (40 * rate)\n",
        "\n",
        "print ('Pay ='), pay"
      ]
    },
    {
      "cell_type": "code",
      "source": [
        "hours=input(\"Enter Hours:\")\n",
        "try:\n",
        "  int(hours)\n",
        "  rate=input(\"Enter Rate:\")\n",
        "  int(rate)\n",
        "  pay = int(hours) * int(rate) \n",
        "  int(pay)\n",
        "  print(\"Pay:\")\n",
        "  print(pay)\n",
        "except: \n",
        "  print(\"Error, please enter a number.  Please run the program again.\")"
      ],
      "metadata": {
        "colab": {
          "base_uri": "https://localhost:8080/"
        },
        "id": "oCkeWXRzJq-f",
        "outputId": "a21f344b-109e-4191-a89b-ffb5d5a0d7ad"
      },
      "execution_count": null,
      "outputs": [
        {
          "output_type": "stream",
          "name": "stdout",
          "text": [
            "Enter Hours:ninty\n",
            "Error, please enter a number.  Please run the program again.\n"
          ]
        }
      ]
    },
    {
      "cell_type": "code",
      "source": [
        "score = float(input(\"Enter Score: \"))\n",
        "if score >= 0.9:\n",
        "    print(\"A\")\n",
        "elif score >=0.8:\n",
        "    print(\"B\")\n",
        "elif score >=0.7:\n",
        "    print(\"C\")\n",
        "elif score >=0.6:\n",
        "    print(\"D\")\n",
        "elif score <=0.6:\n",
        "    print(\"F\")\n",
        "else:\n",
        "    print(\"please print the marks between '0.0 - 1.0\")"
      ],
      "metadata": {
        "colab": {
          "base_uri": "https://localhost:8080/"
        },
        "id": "gv-KdWRhJ8F3",
        "outputId": "64d1254a-1a14-4ade-8c42-b66f9e565711"
      },
      "execution_count": null,
      "outputs": [
        {
          "output_type": "stream",
          "name": "stdout",
          "text": [
            "Enter Score: 90\n",
            "A\n"
          ]
        }
      ]
    },
    {
      "cell_type": "markdown",
      "source": [
        "Chapter 4: exercises 6,7"
      ],
      "metadata": {
        "id": "GkscLlMMK_G0"
      }
    },
    {
      "cell_type": "code",
      "source": [
        "hours = input(\"Enter Hours:\")\n",
        "rate = input(\"Enter Rate:\")\n",
        "\n",
        "if int(hours) <= 40:\n",
        "  def computepay(hours, rate):\n",
        "    wages = int(hours) * int(rate)\n",
        "    return wages\n",
        "  x = computepay(hours, rate)\n",
        "  print(\"Pay: \") + str(x)\n",
        "else:\n",
        "  overhours = int(hours) - 40\n",
        "  def computepay(overhours, rate):\n",
        "    wages = (int(overhours) * int(rate) * 1.5) + (40 * int(rate))\n",
        "    return wages\n",
        "  x = computepay(overhours, rate)\n",
        "  print(\"Pay: \") + str(x)\n",
        "  "
      ],
      "metadata": {
        "id": "a_H_A3-hLDo0"
      },
      "execution_count": null,
      "outputs": []
    },
    {
      "cell_type": "code",
      "source": [
        "score=input(\"Please type a score between 0.0 and 1.0:\")\n",
        "try:\n",
        "  def computegrade():\n",
        "    if float(score) >= 0.9 and float(score) <= 1.0:\n",
        "      print(\"A\")\n",
        "    elif float(score) >= 0.8 and float(score) <= 0.9:\n",
        "      print(\"B\")\n",
        "    elif float(score) >= 0.7 and float(score) <= 0.8:\n",
        "      print(\"C\")\n",
        "    elif float(score) >= 0.6 and float(score) <= 0.7:\n",
        "      print(\"D\")\n",
        "    elif float(score) > 0 and float(score) <= 0.6:\n",
        "      print(\"F\")\n",
        "    else:\n",
        "      print(\"Bad score.  Please run the program again.\")  \n",
        "  computegrade()\n",
        "except: \n",
        "    print(\"Bad score.  Please run the program again.\")"
      ],
      "metadata": {
        "colab": {
          "base_uri": "https://localhost:8080/"
        },
        "id": "XC5U7QdkLkEh",
        "outputId": "9bac97ef-e41c-4066-cda5-90ed1a128a80"
      },
      "execution_count": null,
      "outputs": [
        {
          "output_type": "stream",
          "name": "stdout",
          "text": [
            "Please type a score between 0.0 and 1.0:0\n",
            "Bad score.  Please run the program again.\n"
          ]
        }
      ]
    },
    {
      "cell_type": "code",
      "source": [
        "%%shell\n",
        "jupyter nbconvert --to html /Copy_of_Welcome_To_Colaboratory.ipynb"
      ],
      "metadata": {
        "id": "mi0yTd5sn3Wx"
      },
      "execution_count": null,
      "outputs": []
    }
  ]
}